{
 "cells": [
  {
   "cell_type": "code",
   "execution_count": 3,
   "metadata": {},
   "outputs": [],
   "source": [
    "from pynq import Overlay\n",
    "import time\n",
    "\n",
    "overlay = Overlay('/home/xilinx/pynq/overlays/trng_final2/trng_final2.bit')\n"
   ]
  },
  {
   "cell_type": "code",
   "execution_count": 4,
   "metadata": {},
   "outputs": [],
   "source": [
    "from pynq.gpio import GPIO\n",
    "output = GPIO(GPIO.get_gpio_pin(0), 'out')\n",
    "\n",
    "rng_pins = []\n",
    "for i in range(1,9):\n",
    "    rng_pins.append(GPIO(GPIO.get_gpio_pin(i), 'in'))\n",
    "    \n",
    "valid = GPIO(GPIO.get_gpio_pin(9), 'in') "
   ]
  },
  {
   "cell_type": "code",
   "execution_count": 5,
   "metadata": {},
   "outputs": [],
   "source": [
    "def read_pins(pins):\n",
    "    data = 0\n",
    "    for pin in pins:\n",
    "        data = data << 1\n",
    "        data += pin.read()\n",
    "    return data"
   ]
  },
  {
   "cell_type": "code",
   "execution_count": 10,
   "metadata": {},
   "outputs": [],
   "source": [
    "def get_random_byte_array():\n",
    "    output.write(1)\n",
    "    while valid.read() == 0:\n",
    "        continue\n",
    "    \n",
    "    rnd_bytes = []\n",
    "    for pin in rng_pins:\n",
    "        rnd_bytes.append(pin.read())\n",
    "    \n",
    "    output.write(0)\n",
    "    while valid.read() == 1:\n",
    "        continue\n",
    "\n",
    "    return rnd_bytes"
   ]
  },
  {
   "cell_type": "code",
   "execution_count": 11,
   "metadata": {},
   "outputs": [],
   "source": [
    "def get_random_byte():\n",
    "    output.write(1)\n",
    "    while valid.read() == 0:\n",
    "        continue\n",
    "    \n",
    "    rnd_data = read_pins(rng_pins)\n",
    "    output.write(0)\n",
    "    while valid.read() == 1:\n",
    "        continue\n",
    "\n",
    "    return rnd_data"
   ]
  },
  {
   "cell_type": "code",
   "execution_count": 12,
   "metadata": {},
   "outputs": [],
   "source": [
    "def gen_random_32int():\n",
    "    rand_int = 0\n",
    "    for i in range(0,4):\n",
    "        rand_byte = get_random_byte()\n",
    "        rand_int = rand_int << 8\n",
    "        rand_int += rand_byte\n",
    "    return rand_int"
   ]
  },
  {
   "cell_type": "code",
   "execution_count": 15,
   "metadata": {},
   "outputs": [
    {
     "name": "stdout",
     "output_type": "stream",
     "text": [
      "done in  1827.6669223308563\n"
     ]
    }
   ],
   "source": [
    "import time\n",
    "\n",
    "f = open(\"random.txt\", \"a\")\n",
    "\n",
    "start_time = time.time()\n",
    "\n",
    "for i in range(0, 100000):\n",
    "    random_byte = gen_random_32int()\n",
    "    f.write(str(random_byte)+'\\n')\n",
    "    \n",
    "    \n",
    "end_time = time.time()\n",
    "\n",
    "    \n",
    "f.close()\n",
    "print(\"done in \", end_time-start_time)\n",
    "\n"
   ]
  },
  {
   "cell_type": "code",
   "execution_count": null,
   "metadata": {},
   "outputs": [],
   "source": []
  }
 ],
 "metadata": {
  "kernelspec": {
   "display_name": "Python 3",
   "language": "python",
   "name": "python3"
  }
 },
 "nbformat": 4,
 "nbformat_minor": 2
}
